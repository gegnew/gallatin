{
 "cells": [
  {
   "cell_type": "markdown",
   "metadata": {},
   "source": [
    "# Is the Gallatin Canyon dry enough to  climb?"
   ]
  },
  {
   "cell_type": "markdown",
   "metadata": {},
   "source": [
    "## Step 1: Mountain Project Ticks"
   ]
  },
  {
   "cell_type": "code",
   "execution_count": 567,
   "metadata": {},
   "outputs": [],
   "source": [
    "import os\n",
    "import pandas as pd\n",
    "import numpy as np\n",
    "from datetime import datetime, timedelta\n",
    "import pytz\n",
    "import dateutil\n",
    "from timezonefinder import TimezoneFinder\n",
    "import requests\n",
    "from requests import RequestException\n",
    "from bs4 import BeautifulSoup"
   ]
  },
  {
   "cell_type": "code",
   "execution_count": null,
   "metadata": {},
   "outputs": [],
   "source": [
    "canyon_coords = [45.42, -111.23]"
   ]
  },
  {
   "cell_type": "code",
   "execution_count": 563,
   "metadata": {},
   "outputs": [],
   "source": [
    "mp_base_url = \"https://www.mountainproject.com\"\n",
    "# KEY = os.environ[\"MP_PRIVATE_KEY\"]\n",
    "KEY = \"200335855-2c3a24cba7904fa7da08b088d31511d2\"\n",
    "TIMEZONE = TimezoneFinder().timezone_at(lat=canyon_coords[0], lng=canyon_coords[1])\n",
    "tz = pytz.timezone(TIMEZONE)\n",
    "TODAY = datetime.today().replace(tzinfo=tz)"
   ]
  },
  {
   "cell_type": "code",
   "execution_count": null,
   "metadata": {},
   "outputs": [],
   "source": [
    "def get_routes_for_lat_long(lat, long, max_distance=None, max_results=None, min_diff=None, max_diff=None):\n",
    "    params = {\n",
    "        \"lat\": lat,\n",
    "        \"lon\": long,\n",
    "        \"maxDistance\": max_distance,\n",
    "        \"maxResults\": max_results,\n",
    "        \"minDiff\": min_diff,\n",
    "        \"maxDiff\": max_diff,\n",
    "        \"key\": KEY\n",
    "    }\n",
    "    params = {key: params[key] for key in params if params[key] is not None}\n",
    "    res = requests.get(f\"{mp_base_url}/data/get-routes-for-lat-lon\", params=params)\n",
    "    res.raise_for_status()\n",
    "    return res.json()\n",
    "    \n",
    "    \n",
    "def get_route(route_id):\n",
    "    res = requests.get(f\"{mp_base_url}/data/get-routes/\", params={\"routeIds\": route_id, \"key\": KEY})\n",
    "    res.raise_for_status()\n",
    "    return res.json()\n",
    "    \n",
    "def get_routes(route_ids):\n",
    "    res = requests.get(f\"{mp_base_url}/data/get-routes/\", params={\"routeIds\": route_ids, \"key\": KEY})\n",
    "    res.raise_for_status()\n",
    "    return res.json()"
   ]
  },
  {
   "cell_type": "code",
   "execution_count": null,
   "metadata": {},
   "outputs": [],
   "source": [
    "gallatin_routes = get_routes_for_lat_long(*canyon_coords, max_distance=50, max_results=500)"
   ]
  },
  {
   "cell_type": "code",
   "execution_count": null,
   "metadata": {},
   "outputs": [],
   "source": [
    "name_id_tuples = [(route[\"name\"], route[\"id\"]) for route in gallatin_routes[\"routes\"]]"
   ]
  },
  {
   "cell_type": "markdown",
   "metadata": {},
   "source": [
    "# Interlude: scrape for ticks\n",
    "Mountain Project provides ticks per-user, not per-climb, from their API, so we have to go for the circuitous route."
   ]
  },
  {
   "cell_type": "code",
   "execution_count": null,
   "metadata": {},
   "outputs": [],
   "source": [
    "def get_html(url):\n",
    "    \"\"\"\n",
    "    Attempts to get the content at `url` by making an HTTP GET request.\n",
    "    If the content-type of response is some kind of HTML/XML, return the\n",
    "    text content, otherwise return None.\n",
    "    \"\"\"\n",
    "    try:\n",
    "        resp = requests.get(url, stream=True)\n",
    "        if is_good_response(resp):\n",
    "            return resp.content\n",
    "        else:\n",
    "            return None\n",
    "\n",
    "    except RequestException as e:\n",
    "        log_error('Error during requests to {0} : {1}'.format(url, str(e)))\n",
    "        return None\n",
    "    \n",
    "def is_good_response(resp):\n",
    "    \"\"\"\n",
    "    Returns True if the response seems to be HTML, False otherwise.\n",
    "    \"\"\"\n",
    "    content_type = resp.headers['Content-Type'].lower()\n",
    "    return (resp.status_code == 200 \n",
    "            and content_type is not None \n",
    "            and content_type.find('html') > -1)\n",
    "\n",
    "\n",
    "def log_error(e):\n",
    "    print(e)"
   ]
  },
  {
   "cell_type": "code",
   "execution_count": null,
   "metadata": {},
   "outputs": [],
   "source": [
    "parsed = []\n",
    "for name, _id in name_id_tuples:\n",
    "    try:\n",
    "        url = f\"{mp_base_url}/route/stats/{_id}\"\n",
    "        html = get_html(url)\n",
    "        soup = BeautifulSoup(html, \"html.parser\")\n",
    "        tables = soup.find_all(\"table\")\n",
    "        ticks = tables[3]\n",
    "        data = ticks.find_all(\"tr\")[0].find_all(\"td\")\n",
    "        date_string = \" \".join(data[1].string.split(\" \")[:3])\n",
    "        date = datetime.strptime(date_string, \"%b %d, %Y\").replace(tzinfo=tz).isoformat()\n",
    "        user_name = data[0].find(\"a\").string\n",
    "        user_id = data[0].find(\"a\")[\"href\"].split(\"/\")[-2]\n",
    "        parsed.append({\"route_id\": _id, \"name\": name, \"date\": date, \"user_name\": user_name, \"user_id\": user_id})\n",
    "    except IndexError as e:\n",
    "        print(f\"Couldn't get that thing you wanted, skipping: {tables} \\n Original error: {e}\")"
   ]
  },
  {
   "cell_type": "code",
   "execution_count": null,
   "metadata": {},
   "outputs": [],
   "source": [
    "ticks_table = pd.DataFrame(parsed)\n",
    "# then save data"
   ]
  },
  {
   "cell_type": "code",
   "execution_count": 440,
   "metadata": {},
   "outputs": [
    {
     "data": {
      "text/html": [
       "<div>\n",
       "<style scoped>\n",
       "    .dataframe tbody tr th:only-of-type {\n",
       "        vertical-align: middle;\n",
       "    }\n",
       "\n",
       "    .dataframe tbody tr th {\n",
       "        vertical-align: top;\n",
       "    }\n",
       "\n",
       "    .dataframe thead th {\n",
       "        text-align: right;\n",
       "    }\n",
       "</style>\n",
       "<table border=\"1\" class=\"dataframe\">\n",
       "  <thead>\n",
       "    <tr style=\"text-align: right;\">\n",
       "      <th></th>\n",
       "      <th>route_id</th>\n",
       "      <th>name</th>\n",
       "      <th>date</th>\n",
       "      <th>user_name</th>\n",
       "      <th>user_id</th>\n",
       "    </tr>\n",
       "  </thead>\n",
       "  <tbody>\n",
       "    <tr>\n",
       "      <th>0</th>\n",
       "      <td>105961561</td>\n",
       "      <td>Sparerib</td>\n",
       "      <td>2020-05-29T00:00:00-07:00</td>\n",
       "      <td>Elle Olsztyn</td>\n",
       "      <td>200376334</td>\n",
       "    </tr>\n",
       "    <tr>\n",
       "      <th>1</th>\n",
       "      <td>105941845</td>\n",
       "      <td>Standard Route</td>\n",
       "      <td>2020-05-14T00:00:00-07:00</td>\n",
       "      <td>Sam Saarel</td>\n",
       "      <td>200539583</td>\n",
       "    </tr>\n",
       "    <tr>\n",
       "      <th>2</th>\n",
       "      <td>108077894</td>\n",
       "      <td>Flake Fest</td>\n",
       "      <td>2020-05-28T00:00:00-07:00</td>\n",
       "      <td>Blake Berghoff</td>\n",
       "      <td>200407744</td>\n",
       "    </tr>\n",
       "    <tr>\n",
       "      <th>3</th>\n",
       "      <td>106396564</td>\n",
       "      <td>Skyline Arete</td>\n",
       "      <td>2020-05-18T00:00:00-07:00</td>\n",
       "      <td>Kristen Neithercut</td>\n",
       "      <td>200537548</td>\n",
       "    </tr>\n",
       "    <tr>\n",
       "      <th>4</th>\n",
       "      <td>106870492</td>\n",
       "      <td>Tigger</td>\n",
       "      <td>2020-05-20T00:00:00-07:00</td>\n",
       "      <td>Aaron Day</td>\n",
       "      <td>200161465</td>\n",
       "    </tr>\n",
       "  </tbody>\n",
       "</table>\n",
       "</div>"
      ],
      "text/plain": [
       "    route_id            name                       date           user_name  \\\n",
       "0  105961561        Sparerib  2020-05-29T00:00:00-07:00        Elle Olsztyn   \n",
       "1  105941845  Standard Route  2020-05-14T00:00:00-07:00          Sam Saarel   \n",
       "2  108077894      Flake Fest  2020-05-28T00:00:00-07:00      Blake Berghoff   \n",
       "3  106396564   Skyline Arete  2020-05-18T00:00:00-07:00  Kristen Neithercut   \n",
       "4  106870492          Tigger  2020-05-20T00:00:00-07:00           Aaron Day   \n",
       "\n",
       "     user_id  \n",
       "0  200376334  \n",
       "1  200539583  \n",
       "2  200407744  \n",
       "3  200537548  \n",
       "4  200161465  "
      ]
     },
     "execution_count": 440,
     "metadata": {},
     "output_type": "execute_result"
    }
   ],
   "source": [
    "ticks_table.head()"
   ]
  },
  {
   "cell_type": "code",
   "execution_count": null,
   "metadata": {},
   "outputs": [],
   "source": [
    "earliest_date = dateutil.parser.parse(ticks_table.date.min())"
   ]
  },
  {
   "cell_type": "markdown",
   "metadata": {},
   "source": [
    "# Get Weather Data\n",
    "https://api.mesowest.net/v2/stations/timeseries?stid=SGOM8&recent=18760&obtimezone=local&complete=1&hfmetars=0&token=d8c6aee36a994f90857925cea26934be"
   ]
  },
  {
   "cell_type": "code",
   "execution_count": null,
   "metadata": {},
   "outputs": [],
   "source": [
    "weather_base = \"https://api.mesowest.net/v2/stations\"\n",
    "TOKEN = \"fec44906eebc49e5947a38b784e8907d\""
   ]
  },
  {
   "cell_type": "code",
   "execution_count": null,
   "metadata": {},
   "outputs": [],
   "source": [
    "params = {\n",
    "    \"stid\": \"SGOM8\",\n",
    "    \"recent\": 18760,\n",
    "    \"obtimezone\": \"local\",\n",
    "    \"complete\": 1,\n",
    "    \"hfmetars\": 0,\n",
    "    \"token\": TOKEN\n",
    "}\n",
    "res = requests.get(f\"{weather_base}/timeseries\", params=params)"
   ]
  },
  {
   "cell_type": "code",
   "execution_count": 484,
   "metadata": {},
   "outputs": [],
   "source": [
    "params = {\n",
    "#     \"stid\": \"SGOM8\",\n",
    "    \"radius\": \",\".join([str(canyon_coords[0]), str(canyon_coords[1]), str(3)]),\n",
    "    \"start\": earliest_date.strftime(\"%Y%m%d%H%M\"),\n",
    "    \"end\": datetime.today().strftime(\"%Y%m%d%H%M\"),\n",
    "    \"token\": TOKEN\n",
    "}\n",
    "res = requests.get(f\"{weather_base}/timeseries\", params=params)"
   ]
  },
  {
   "cell_type": "code",
   "execution_count": 523,
   "metadata": {},
   "outputs": [],
   "source": [
    "params = {\n",
    "    \"radius\": \",\".join([str(canyon_coords[0]), str(canyon_coords[1]), str(50)]),\n",
    "    \"token\": TOKEN\n",
    "}\n",
    "station_metadata = requests.get(f\"{weather_base}/metadata\", params=params)\n",
    "df_station_metadata = pd.DataFrame(res.json()[\"STATION\"])"
   ]
  },
  {
   "cell_type": "code",
   "execution_count": 544,
   "metadata": {},
   "outputs": [],
   "source": [
    "df = df_station_metadata[df_station_metadata[\"STATUS\"]==\"ACTIVE\"].drop(columns=\"STATUS\")\n",
    "df.columns = [col.lower() for col in df.columns]\n",
    "df.head()\n",
    "df = df[[\"id\", \"stid\", \"elevation\", \"distance\", \"longitude\", \"latitude\", \"state\", \"timezone\"]]"
   ]
  },
  {
   "cell_type": "code",
   "execution_count": 657,
   "metadata": {},
   "outputs": [],
   "source": [
    "def date_range(start, end, intv):\n",
    "    diff = (end - start ) / intv\n",
    "    for i in range(intv):\n",
    "        yield (start + diff * i)\n",
    "    yield end\n",
    "        \n",
    "def get_weather_data_chunks(start_datetime, end_datetime, lat, long):\n",
    "    data = []\n",
    "    for dt in date_range(start_datetime, end_datetime, 10):\n",
    "        params = {\n",
    "            \"radius\": \",\".join([str(canyon_coords[0]), str(canyon_coords[1]), str(3)]),\n",
    "            \"start\": start_datetime,\n",
    "            \"end\": dt,\n",
    "            \"token\": TOKEN\n",
    "        }\n",
    "        res = requests.get(f\"{weather_base}/timeseries\", params=params)\n",
    "        res.raise_for_status()\n",
    "        start_datetime = dt\n",
    "        data.append(res.json())\n",
    "        \n"
   ]
  },
  {
   "cell_type": "code",
   "execution_count": 658,
   "metadata": {},
   "outputs": [],
   "source": [
    "# get_weather_data_chunks(earliest_date, datetime.today(), *canyon_coords)\n",
    "get_weather_data_chunks(earliest_date, TODAY, *canyon_coords)\n"
   ]
  },
  {
   "cell_type": "code",
   "execution_count": 446,
   "metadata": {},
   "outputs": [],
   "source": [
    "weather_df[\"station_id\"] = \"SGOM8\""
   ]
  },
  {
   "cell_type": "code",
   "execution_count": 447,
   "metadata": {},
   "outputs": [
    {
     "data": {
      "text/html": [
       "<div>\n",
       "<style scoped>\n",
       "    .dataframe tbody tr th:only-of-type {\n",
       "        vertical-align: middle;\n",
       "    }\n",
       "\n",
       "    .dataframe tbody tr th {\n",
       "        vertical-align: top;\n",
       "    }\n",
       "\n",
       "    .dataframe thead th {\n",
       "        text-align: right;\n",
       "    }\n",
       "</style>\n",
       "<table border=\"1\" class=\"dataframe\">\n",
       "  <thead>\n",
       "    <tr style=\"text-align: right;\">\n",
       "      <th></th>\n",
       "      <th>date_time</th>\n",
       "      <th>solar_radiation_set_1</th>\n",
       "      <th>wind_cardinal_direction_set_1d</th>\n",
       "      <th>wind_gust_set_1</th>\n",
       "      <th>volt_set_1</th>\n",
       "      <th>snow_interval_set_1</th>\n",
       "      <th>dew_point_temperature_set_1d</th>\n",
       "      <th>peak_wind_direction_set_1</th>\n",
       "      <th>wind_chill_set_1d</th>\n",
       "      <th>precip_accum_set_1</th>\n",
       "      <th>heat_index_set_1d</th>\n",
       "      <th>wind_direction_set_1</th>\n",
       "      <th>peak_wind_speed_set_1</th>\n",
       "      <th>wind_speed_set_1</th>\n",
       "      <th>relative_humidity_set_1</th>\n",
       "      <th>air_temp_set_1</th>\n",
       "      <th>station_id</th>\n",
       "    </tr>\n",
       "  </thead>\n",
       "  <tbody>\n",
       "    <tr>\n",
       "      <th>0</th>\n",
       "      <td>2009-08-07T00:00:00Z</td>\n",
       "      <td>85.0</td>\n",
       "      <td>N</td>\n",
       "      <td>6.26</td>\n",
       "      <td>13.2</td>\n",
       "      <td>NaN</td>\n",
       "      <td>7.99</td>\n",
       "      <td>32.0</td>\n",
       "      <td>NaN</td>\n",
       "      <td>1058.164</td>\n",
       "      <td>NaN</td>\n",
       "      <td>354.0</td>\n",
       "      <td>6.26</td>\n",
       "      <td>2.68</td>\n",
       "      <td>43.0</td>\n",
       "      <td>21.11</td>\n",
       "      <td>SGOM8</td>\n",
       "    </tr>\n",
       "    <tr>\n",
       "      <th>1</th>\n",
       "      <td>2009-08-07T01:00:00Z</td>\n",
       "      <td>219.0</td>\n",
       "      <td>N</td>\n",
       "      <td>7.15</td>\n",
       "      <td>13.4</td>\n",
       "      <td>NaN</td>\n",
       "      <td>11.44</td>\n",
       "      <td>148.0</td>\n",
       "      <td>NaN</td>\n",
       "      <td>1058.164</td>\n",
       "      <td>NaN</td>\n",
       "      <td>9.0</td>\n",
       "      <td>7.15</td>\n",
       "      <td>2.23</td>\n",
       "      <td>74.0</td>\n",
       "      <td>16.11</td>\n",
       "      <td>SGOM8</td>\n",
       "    </tr>\n",
       "    <tr>\n",
       "      <th>2</th>\n",
       "      <td>2009-08-07T02:00:00Z</td>\n",
       "      <td>6.0</td>\n",
       "      <td>NE</td>\n",
       "      <td>3.58</td>\n",
       "      <td>13.0</td>\n",
       "      <td>NaN</td>\n",
       "      <td>11.56</td>\n",
       "      <td>102.0</td>\n",
       "      <td>NaN</td>\n",
       "      <td>1058.418</td>\n",
       "      <td>NaN</td>\n",
       "      <td>52.0</td>\n",
       "      <td>3.58</td>\n",
       "      <td>0.90</td>\n",
       "      <td>83.0</td>\n",
       "      <td>14.44</td>\n",
       "      <td>SGOM8</td>\n",
       "    </tr>\n",
       "    <tr>\n",
       "      <th>3</th>\n",
       "      <td>2009-08-07T03:00:00Z</td>\n",
       "      <td>4.0</td>\n",
       "      <td>SE</td>\n",
       "      <td>2.23</td>\n",
       "      <td>12.8</td>\n",
       "      <td>NaN</td>\n",
       "      <td>11.67</td>\n",
       "      <td>53.0</td>\n",
       "      <td>NaN</td>\n",
       "      <td>1061.466</td>\n",
       "      <td>NaN</td>\n",
       "      <td>141.0</td>\n",
       "      <td>2.23</td>\n",
       "      <td>0.45</td>\n",
       "      <td>100.0</td>\n",
       "      <td>11.67</td>\n",
       "      <td>SGOM8</td>\n",
       "    </tr>\n",
       "    <tr>\n",
       "      <th>4</th>\n",
       "      <td>2009-08-07T04:00:00Z</td>\n",
       "      <td>0.0</td>\n",
       "      <td>N</td>\n",
       "      <td>1.34</td>\n",
       "      <td>12.7</td>\n",
       "      <td>NaN</td>\n",
       "      <td>12.22</td>\n",
       "      <td>98.0</td>\n",
       "      <td>NaN</td>\n",
       "      <td>1061.466</td>\n",
       "      <td>NaN</td>\n",
       "      <td>9.0</td>\n",
       "      <td>1.34</td>\n",
       "      <td>0.00</td>\n",
       "      <td>100.0</td>\n",
       "      <td>12.22</td>\n",
       "      <td>SGOM8</td>\n",
       "    </tr>\n",
       "  </tbody>\n",
       "</table>\n",
       "</div>"
      ],
      "text/plain": [
       "              date_time  solar_radiation_set_1 wind_cardinal_direction_set_1d  \\\n",
       "0  2009-08-07T00:00:00Z                   85.0                              N   \n",
       "1  2009-08-07T01:00:00Z                  219.0                              N   \n",
       "2  2009-08-07T02:00:00Z                    6.0                             NE   \n",
       "3  2009-08-07T03:00:00Z                    4.0                             SE   \n",
       "4  2009-08-07T04:00:00Z                    0.0                              N   \n",
       "\n",
       "   wind_gust_set_1  volt_set_1  snow_interval_set_1  \\\n",
       "0             6.26        13.2                  NaN   \n",
       "1             7.15        13.4                  NaN   \n",
       "2             3.58        13.0                  NaN   \n",
       "3             2.23        12.8                  NaN   \n",
       "4             1.34        12.7                  NaN   \n",
       "\n",
       "   dew_point_temperature_set_1d  peak_wind_direction_set_1  wind_chill_set_1d  \\\n",
       "0                          7.99                       32.0                NaN   \n",
       "1                         11.44                      148.0                NaN   \n",
       "2                         11.56                      102.0                NaN   \n",
       "3                         11.67                       53.0                NaN   \n",
       "4                         12.22                       98.0                NaN   \n",
       "\n",
       "   precip_accum_set_1  heat_index_set_1d  wind_direction_set_1  \\\n",
       "0            1058.164                NaN                 354.0   \n",
       "1            1058.164                NaN                   9.0   \n",
       "2            1058.418                NaN                  52.0   \n",
       "3            1061.466                NaN                 141.0   \n",
       "4            1061.466                NaN                   9.0   \n",
       "\n",
       "   peak_wind_speed_set_1  wind_speed_set_1  relative_humidity_set_1  \\\n",
       "0                   6.26              2.68                     43.0   \n",
       "1                   7.15              2.23                     74.0   \n",
       "2                   3.58              0.90                     83.0   \n",
       "3                   2.23              0.45                    100.0   \n",
       "4                   1.34              0.00                    100.0   \n",
       "\n",
       "   air_temp_set_1 station_id  \n",
       "0           21.11      SGOM8  \n",
       "1           16.11      SGOM8  \n",
       "2           14.44      SGOM8  \n",
       "3           11.67      SGOM8  \n",
       "4           12.22      SGOM8  "
      ]
     },
     "execution_count": 447,
     "metadata": {},
     "output_type": "execute_result"
    }
   ],
   "source": [
    "weather_df.head()"
   ]
  },
  {
   "cell_type": "markdown",
   "metadata": {},
   "source": [
    "# Save to S3"
   ]
  },
  {
   "cell_type": "code",
   "execution_count": null,
   "metadata": {},
   "outputs": [],
   "source": []
  },
  {
   "cell_type": "code",
   "execution_count": null,
   "metadata": {},
   "outputs": [],
   "source": []
  },
  {
   "cell_type": "code",
   "execution_count": null,
   "metadata": {},
   "outputs": [],
   "source": []
  }
 ],
 "metadata": {
  "kernelspec": {
   "display_name": "Python 3",
   "language": "python",
   "name": "python3"
  },
  "language_info": {
   "codemirror_mode": {
    "name": "ipython",
    "version": 3
   },
   "file_extension": ".py",
   "mimetype": "text/x-python",
   "name": "python",
   "nbconvert_exporter": "python",
   "pygments_lexer": "ipython3",
   "version": "3.6.9"
  }
 },
 "nbformat": 4,
 "nbformat_minor": 4
}
